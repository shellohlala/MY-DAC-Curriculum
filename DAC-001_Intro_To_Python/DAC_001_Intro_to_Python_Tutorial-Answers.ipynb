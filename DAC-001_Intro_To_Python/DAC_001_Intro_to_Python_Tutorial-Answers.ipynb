{
 "cells": [
  {
   "cell_type": "markdown",
   "metadata": {},
   "source": [
    "question 1\n",
    "\n",
    "(a) Create a list named fruits with the items \"apple\", \"orange\", and \"banana\".\n",
    "(b) Add \"tomato\" to the end of the fruits list.\n",
    "(c) Remove \"apple\" from the fruits list."
   ]
  },
  {
   "cell_type": "code",
   "execution_count": 5,
   "metadata": {},
   "outputs": [
    {
     "name": "stdout",
     "output_type": "stream",
     "text": [
      "['apple', 'orange', 'banana']\n",
      "['apple', 'orange', 'banana', 'tomato']\n",
      "['orange', 'banana', 'tomato']\n"
     ]
    }
   ],
   "source": [
    "# (a) Create a list named fruits with the items \"apple\", \"orange\", and \"banana\".\n",
    "fruits = [\"apple\", \"orange\", \"banana\"]\n",
    "\n",
    "# (b) Add \"tomato\" to the end of the fruits list.\n",
    "fruits.append(\"tomato\")\n",
    "\n",
    "# (c) Remove \"apple\" from the fruits list.\n",
    "fruits.remove(\"apple\")\n",
    "print(fruits)"
   ]
  },
  {
   "cell_type": "markdown",
   "metadata": {},
   "source": [
    "Question 2\n",
    "\n",
    "(b) Attempt to append \"literature\" to the tuple and observe the result. Suggest an alternative way to add an element to a tuple.\n",
    "\n",
    "change the tuple into a list using list(subject) and .append(\"literature\"), then change back to a tuple using tuple(list_subject)"
   ]
  },
  {
   "cell_type": "code",
   "execution_count": 4,
   "metadata": {},
   "outputs": [
    {
     "name": "stdout",
     "output_type": "stream",
     "text": [
      "('physics', 'chemistry', 'english', 'math', 'biology')\n"
     ]
    },
    {
     "data": {
      "text/plain": [
       "5"
      ]
     },
     "execution_count": 4,
     "metadata": {},
     "output_type": "execute_result"
    }
   ],
   "source": [
    "# (a) Create a tuple named subjects with the following elements: \"physics\", \"chemistry\", \"english\", \"math\", and \"biology\".\n",
    "subjects = (\"physics\", \"chemistry\", \"english\", \"math\", \"biology\")\n",
    "print(subjects)\n",
    "\n",
    "# b\n",
    "\n",
    "\n",
    "# (c) Count the number of elements in the subjects tuple.\n",
    "len(subjects)"
   ]
  },
  {
   "cell_type": "markdown",
   "metadata": {},
   "source": [
    "Question 3"
   ]
  },
  {
   "cell_type": "code",
   "execution_count": 12,
   "metadata": {},
   "outputs": [
    {
     "name": "stdout",
     "output_type": "stream",
     "text": [
      "[10, 6, 7, 8, 9, 3]\n",
      "[10, 9, 8, 7, 6, 3]\n",
      "[]\n"
     ]
    }
   ],
   "source": [
    "#(a) Create a list named students_id with the values [10, 6, 7, 8, 9, 3].\n",
    "students_id = [10, 6, 7, 8, 9, 3]\n",
    "print(students_id)\n",
    "\n",
    "#(b) Sort the list in descending order and reinitialize it as sorted_students_id.\n",
    "sorted_students_id = sorted(students_id)\n",
    "sorted_students_id.reverse()\n",
    "print(sorted_students_id)\n",
    "\n",
    "#(c) Remove all elements from the sorted_students_id list.\n",
    "sorted_students_id.clear()\n",
    "print(sorted_students_id)"
   ]
  },
  {
   "cell_type": "markdown",
   "metadata": {},
   "source": [
    "Question 4"
   ]
  },
  {
   "cell_type": "code",
   "execution_count": 18,
   "metadata": {},
   "outputs": [
    {
     "name": "stdout",
     "output_type": "stream",
     "text": [
      "[12]\n",
      "[12, 9]\n",
      "[12, 9, 6]\n",
      "[12, 9, 6, 3]\n"
     ]
    }
   ],
   "source": [
    "#Generate a list of numbers starting from 15 and decreasing by 3 each step, until the number is positive (not inclusive of zero). \n",
    "# Store it in a variable named desc_list.\n",
    "\n",
    "num = 15\n",
    "desc_list = []\n",
    "\n",
    "while num > 0:\n",
    "    num -= 3\n",
    "    if num != 0:\n",
    "        desc_list.append(num)\n",
    "        print(desc_list)\n"
   ]
  },
  {
   "cell_type": "markdown",
   "metadata": {},
   "source": [
    "Question 5"
   ]
  },
  {
   "cell_type": "code",
   "execution_count": 23,
   "metadata": {},
   "outputs": [
    {
     "name": "stdout",
     "output_type": "stream",
     "text": [
      "[2, 4, 6, 8, 10, 12, 14, 16, 18, 20, 22, 24, 26, 28]\n",
      "14\n"
     ]
    }
   ],
   "source": [
    "#Generate a list of numbers starting from 2, increasing by 2 each step, until the list contains 14 elements. \n",
    "# Store it in a variable named asc_list.\n",
    "\n",
    "number = 2\n",
    "asc_list = []\n",
    "\n",
    "while len(asc_list) < 14:\n",
    "    asc_list.append(number)\n",
    "    number += 2\n",
    "\n",
    "print(asc_list)\n",
    "print(len(asc_list))"
   ]
  },
  {
   "cell_type": "markdown",
   "metadata": {},
   "source": [
    "Question 6"
   ]
  },
  {
   "cell_type": "code",
   "execution_count": 24,
   "metadata": {},
   "outputs": [
    {
     "name": "stdout",
     "output_type": "stream",
     "text": [
      "[12, 9, 6, 3, 2, 4, 6, 8, 10, 12, 14, 16, 18, 20, 22, 24, 26, 28]\n",
      "[12, 6, 2, 4, 6, 8, 10, 12, 14, 16, 18, 20, 22, 24, 26, 28]\n",
      "[9, 3]\n"
     ]
    }
   ],
   "source": [
    "#Combine the lists generated in Questions 4 and 5 into a single list named combined_list.\n",
    "combined_list = desc_list + asc_list\n",
    "print(combined_list)\n",
    "\n",
    "#Separate the even and odd numbers from combined_list into two separate lists: even_numbers and odd_numbers.\n",
    "\n",
    "even_numbers = []\n",
    "odd_numbers = []\n",
    "\n",
    "for n in combined_list:\n",
    "    if (n % 2) == 0:\n",
    "        even_numbers.append(n)\n",
    "    else:\n",
    "        odd_numbers.append(n)\n",
    "\n",
    "print(even_numbers)\n",
    "print(odd_numbers)"
   ]
  },
  {
   "cell_type": "markdown",
   "metadata": {},
   "source": [
    "Question 7 ??"
   ]
  },
  {
   "cell_type": "code",
   "execution_count": 38,
   "metadata": {},
   "outputs": [
    {
     "name": "stdout",
     "output_type": "stream",
     "text": [
      "254.34 cm^2\n",
      "56.52 cm\n"
     ]
    }
   ],
   "source": [
    "#Create a function circle_properties(radius) that takes in the radius of a circle and returns both the area and circumference.\n",
    "import math\n",
    "\n",
    "def circle_properties(radius):\n",
    "    area = math.pi * radius ** 2\n",
    "    print(f\"{area} cm^2\")\n",
    "    circumference = 2 * math.pi * radius\n",
    "    print(f\"{circumference} cm\")\n",
    "    return area, circumference\n",
    "\n",
    "radius = 9\n",
    "answer = circle_properties(radius)\n"
   ]
  },
  {
   "cell_type": "markdown",
   "metadata": {},
   "source": [
    "Question 8"
   ]
  },
  {
   "cell_type": "code",
   "execution_count": 39,
   "metadata": {},
   "outputs": [
    {
     "name": "stdout",
     "output_type": "stream",
     "text": [
      "11\n"
     ]
    }
   ],
   "source": [
    "#Define a function that performs a task you find interesting. Demonstrate how this function works.\n",
    "\n",
    "def interesting(num1, num2):\n",
    "    total = num1 + num2\n",
    "    return total\n",
    "\n",
    "result = interesting(3, 8)\n",
    "print(result)"
   ]
  },
  {
   "cell_type": "markdown",
   "metadata": {},
   "source": [
    "Question 9"
   ]
  },
  {
   "cell_type": "code",
   "execution_count": 42,
   "metadata": {},
   "outputs": [
    {
     "name": "stdout",
     "output_type": "stream",
     "text": [
      "{'Alice': 85, 'Bob': 90, 'Charlie': 78}\n",
      "{'Alice': 85, 'Bob': 90, 'Charlie': 78, 'David': 92}\n",
      "{'Alice': 88, 'Bob': 90, 'Charlie': 78, 'David': 92}\n"
     ]
    }
   ],
   "source": [
    "#(a) Create a dictionary named student_grades with the following keys and values: \"Alice\": 85, \"Bob\": 90, and \"Charlie\": 78.\n",
    "student_grades = {\n",
    "    \"Alice\": 85,\n",
    "    \"Bob\": 90,\n",
    "    \"Charlie\": 78\n",
    "}\n",
    "print(student_grades)\n",
    "\n",
    "##(b) Add a new student, \"David\", with a grade of 92 to the student_grades dictionary.\n",
    "student_grades[\"David\"] = 92\n",
    "print(student_grades)\n",
    "\n",
    "#(c) Update \"Alice\"'s grade to 88.\n",
    "student_grades[\"Alice\"] = 88\n",
    "print(student_grades)"
   ]
  },
  {
   "cell_type": "markdown",
   "metadata": {},
   "source": [
    "Question 10"
   ]
  },
  {
   "cell_type": "code",
   "execution_count": 45,
   "metadata": {},
   "outputs": [
    {
     "data": {
      "text/plain": [
       "{'apple': 3, 'banana': 2, 'orange': 1}"
      ]
     },
     "execution_count": 45,
     "metadata": {},
     "output_type": "execute_result"
    }
   ],
   "source": [
    "#Given the list of fruits [\"apple\", \"banana\", \"apple\", \"orange\", \"banana\", \"apple\"], \n",
    "#create a dictionary named fruit_count that counts the number of times each fruit appears in the list.\n",
    "\n",
    "fruits = [\"apple\", \"banana\", \"apple\", \"orange\", \"banana\", \"apple\"]\n",
    "fruit_count = {}\n",
    "\n",
    "for fruit in fruits:\n",
    "    if fruit in fruit_count:\n",
    "        fruit_count[fruit] += 1\n",
    "    else:\n",
    "        fruit_count[fruit] = 1\n",
    "\n",
    "fruit_count        "
   ]
  }
 ],
 "metadata": {
  "kernelspec": {
   "display_name": "Python 3",
   "language": "python",
   "name": "python3"
  },
  "language_info": {
   "codemirror_mode": {
    "name": "ipython",
    "version": 3
   },
   "file_extension": ".py",
   "mimetype": "text/x-python",
   "name": "python",
   "nbconvert_exporter": "python",
   "pygments_lexer": "ipython3",
   "version": "3.12.0"
  }
 },
 "nbformat": 4,
 "nbformat_minor": 2
}
